{
  "nbformat": 4,
  "nbformat_minor": 0,
  "metadata": {
    "colab": {
      "name": "Intermediate_Python_For_Finance_DataCamp.ipynb",
      "provenance": [],
      "collapsed_sections": []
    },
    "kernelspec": {
      "name": "python3",
      "display_name": "Python 3"
    }
  },
  "cells": [
    {
      "cell_type": "markdown",
      "metadata": {
        "id": "OgS7ouKxOu8F"
      },
      "source": [
        "#Exploratory Data Analysis of Financial Data"
      ]
    },
    {
      "cell_type": "markdown",
      "metadata": {
        "id": "go_nowdvOrtX"
      },
      "source": [
        "Work By - RAVJOT SINGH\r\n",
        "\r\n",
        "E-Mail - ravjot313@gmail.com\r\n",
        "\r\n",
        "Website - https://ravjot03.github.io/\r\n",
        "\r\n",
        "LinkedIn - https://www.linkedin.com/in/ravjot03/\r\n",
        "\r\n",
        "GitHub - https://github.com/Ravjot03\r\n",
        "\r\n",
        "Medium - https://medium.com/@ravjot03"
      ]
    },
    {
      "cell_type": "markdown",
      "metadata": {
        "id": "EaPolqLNPMQX"
      },
      "source": [
        "##Importing required libraries"
      ]
    },
    {
      "cell_type": "code",
      "metadata": {
        "id": "1H_EyxRw-rGX"
      },
      "source": [
        "import pandas as pd\r\n",
        "import numpy as np\r\n",
        "import matplotlib.pyplot as plt\r\n",
        "import seaborn as sns"
      ],
      "execution_count": null,
      "outputs": []
    },
    {
      "cell_type": "markdown",
      "metadata": {
        "id": "cIFem0TPPQmW"
      },
      "source": [
        "##Knowing the data"
      ]
    },
    {
      "cell_type": "markdown",
      "metadata": {
        "id": "kFfT0OYQF8aQ"
      },
      "source": [
        "Analyzing historical price data is an important way to try to make future predictions. We will be using a dataset of stock data for the company XYZ. This data includes opening, closing, high, and low prices per day. "
      ]
    },
    {
      "cell_type": "markdown",
      "metadata": {
        "id": "S-Dzvj9bPUd9"
      },
      "source": [
        "##Importing & Loading the dataset"
      ]
    },
    {
      "cell_type": "code",
      "metadata": {
        "id": "W_N-x2Y__Jii"
      },
      "source": [
        "path = \"/content/HistoricalQuotes.csv\""
      ],
      "execution_count": null,
      "outputs": []
    },
    {
      "cell_type": "markdown",
      "metadata": {
        "id": "pUvd5oh4RplU"
      },
      "source": [
        "What does `parse_dates` do ?\r\n",
        "\r\n",
        "Reading date columns from a CSV file\r\n",
        "\r\n",
        "By default, date columns are represented as objects when loading data from a CSV file. To read the date column correctly, we can use the argument parse_dates to specify a list of date columns.\r\n",
        "\r\n",
        "What is `index_col` ?\r\n",
        "\r\n",
        "This is to allow you to set which columns to be used as the index of the dataframe. The default value is None, and pandas will add a new column start from 0 to specify the index column."
      ]
    },
    {
      "cell_type": "code",
      "metadata": {
        "id": "EH-lvD8H_N3h"
      },
      "source": [
        "df = pd.read_csv(path, index_col='date', parse_dates=['date'])"
      ],
      "execution_count": null,
      "outputs": []
    },
    {
      "cell_type": "markdown",
      "metadata": {
        "id": "KkdAGhHcPZNc"
      },
      "source": [
        "##Exploratory Data Analysis"
      ]
    },
    {
      "cell_type": "markdown",
      "metadata": {
        "id": "1WdnLcOTPeKg"
      },
      "source": [
        "`df.shape` - Return a tuple representing the dimensionality of the DataFrame."
      ]
    },
    {
      "cell_type": "code",
      "metadata": {
        "colab": {
          "base_uri": "https://localhost:8080/"
        },
        "id": "LsVESJ97_ZC3",
        "outputId": "f34976f9-fd59-40ce-b5b9-c7ddb6d2e8b5"
      },
      "source": [
        "df.shape"
      ],
      "execution_count": null,
      "outputs": [
        {
          "output_type": "execute_result",
          "data": {
            "text/plain": [
              "(2519, 5)"
            ]
          },
          "metadata": {
            "tags": []
          },
          "execution_count": 40
        }
      ]
    },
    {
      "cell_type": "markdown",
      "metadata": {
        "id": "3_dfVMlVPigM"
      },
      "source": [
        "`df.head(n=5)` - Return the first n rows. This function returns the first n rows for the object based on position. (default n=5)"
      ]
    },
    {
      "cell_type": "code",
      "metadata": {
        "colab": {
          "base_uri": "https://localhost:8080/",
          "height": 233
        },
        "id": "duruq3kDKxkp",
        "outputId": "f87cd80f-0dc9-47f9-c9b6-c0d8645b1134"
      },
      "source": [
        "df.head()"
      ],
      "execution_count": null,
      "outputs": [
        {
          "output_type": "execute_result",
          "data": {
            "text/html": [
              "<div>\n",
              "<style scoped>\n",
              "    .dataframe tbody tr th:only-of-type {\n",
              "        vertical-align: middle;\n",
              "    }\n",
              "\n",
              "    .dataframe tbody tr th {\n",
              "        vertical-align: top;\n",
              "    }\n",
              "\n",
              "    .dataframe thead th {\n",
              "        text-align: right;\n",
              "    }\n",
              "</style>\n",
              "<table border=\"1\" class=\"dataframe\">\n",
              "  <thead>\n",
              "    <tr style=\"text-align: right;\">\n",
              "      <th></th>\n",
              "      <th>close</th>\n",
              "      <th>volume</th>\n",
              "      <th>open</th>\n",
              "      <th>high</th>\n",
              "      <th>low</th>\n",
              "    </tr>\n",
              "    <tr>\n",
              "      <th>date</th>\n",
              "      <th></th>\n",
              "      <th></th>\n",
              "      <th></th>\n",
              "      <th></th>\n",
              "      <th></th>\n",
              "    </tr>\n",
              "  </thead>\n",
              "  <tbody>\n",
              "    <tr>\n",
              "      <th>2020-12-26 13:33:00</th>\n",
              "      <td>1,155.14</td>\n",
              "      <td>1,145,529</td>\n",
              "      <td>1,172</td>\n",
              "      <td>1,176.88</td>\n",
              "      <td>1,152</td>\n",
              "    </tr>\n",
              "    <tr>\n",
              "      <th>2019-08-02 00:00:00</th>\n",
              "      <td>1196.3200</td>\n",
              "      <td>1745450.0000</td>\n",
              "      <td>1203.0000</td>\n",
              "      <td>1209.5000</td>\n",
              "      <td>1190.0000</td>\n",
              "    </tr>\n",
              "    <tr>\n",
              "      <th>2019-08-01 00:00:00</th>\n",
              "      <td>1211.7800</td>\n",
              "      <td>1771271.0000</td>\n",
              "      <td>1217.6300</td>\n",
              "      <td>1236.2980</td>\n",
              "      <td>1207.0000</td>\n",
              "    </tr>\n",
              "    <tr>\n",
              "      <th>2019-07-31 00:00:00</th>\n",
              "      <td>1218.2000</td>\n",
              "      <td>1997999.0000</td>\n",
              "      <td>1224.8700</td>\n",
              "      <td>1234.9100</td>\n",
              "      <td>1208.1800</td>\n",
              "    </tr>\n",
              "    <tr>\n",
              "      <th>2019-07-30 00:00:00</th>\n",
              "      <td>1228.0000</td>\n",
              "      <td>1430775.0000</td>\n",
              "      <td>1227.0000</td>\n",
              "      <td>1236.9100</td>\n",
              "      <td>1225.3200</td>\n",
              "    </tr>\n",
              "  </tbody>\n",
              "</table>\n",
              "</div>"
            ],
            "text/plain": [
              "                         close        volume       open       high        low\n",
              "date                                                                         \n",
              "2020-12-26 13:33:00   1,155.14     1,145,529      1,172   1,176.88      1,152\n",
              "2019-08-02 00:00:00  1196.3200  1745450.0000  1203.0000  1209.5000  1190.0000\n",
              "2019-08-01 00:00:00  1211.7800  1771271.0000  1217.6300  1236.2980  1207.0000\n",
              "2019-07-31 00:00:00  1218.2000  1997999.0000  1224.8700  1234.9100  1208.1800\n",
              "2019-07-30 00:00:00  1228.0000  1430775.0000  1227.0000  1236.9100  1225.3200"
            ]
          },
          "metadata": {
            "tags": []
          },
          "execution_count": 41
        }
      ]
    },
    {
      "cell_type": "markdown",
      "metadata": {
        "id": "Nk9poWUlPn4H"
      },
      "source": [
        "`df.isna().sum()` - Count missing values for each column of the dataframe."
      ]
    },
    {
      "cell_type": "code",
      "metadata": {
        "colab": {
          "base_uri": "https://localhost:8080/"
        },
        "id": "iixGywQdKznv",
        "outputId": "a8a22408-836e-4651-d612-2d75aedc8343"
      },
      "source": [
        "df.isna().sum()"
      ],
      "execution_count": null,
      "outputs": [
        {
          "output_type": "execute_result",
          "data": {
            "text/plain": [
              "close     0\n",
              "volume    0\n",
              "open      0\n",
              "high      0\n",
              "low       0\n",
              "dtype: int64"
            ]
          },
          "metadata": {
            "tags": []
          },
          "execution_count": 42
        }
      ]
    },
    {
      "cell_type": "markdown",
      "metadata": {
        "id": "7js90SApPtU2"
      },
      "source": [
        "`df.drop()` - Drop specified labels from rows or columns.\r\n",
        "\r\n",
        "Remove rows or columns by specifying label names and corresponding axis, or by specifying directly index or column names."
      ]
    },
    {
      "cell_type": "code",
      "metadata": {
        "id": "IVSvLdUTMgjV"
      },
      "source": [
        "#Dropping 1st row of the dataset\r\n",
        "df.drop(df.index[0], inplace=True)"
      ],
      "execution_count": null,
      "outputs": []
    },
    {
      "cell_type": "code",
      "metadata": {
        "colab": {
          "base_uri": "https://localhost:8080/"
        },
        "id": "L4aYe0YPMl9e",
        "outputId": "42e9d21f-6411-41b7-e086-0fdc1ad13aea"
      },
      "source": [
        "#Revaluating the shape of the dataset to check the updated dataset, after dropping 1st row\r\n",
        "df.shape"
      ],
      "execution_count": null,
      "outputs": [
        {
          "output_type": "execute_result",
          "data": {
            "text/plain": [
              "(2518, 5)"
            ]
          },
          "metadata": {
            "tags": []
          },
          "execution_count": 44
        }
      ]
    },
    {
      "cell_type": "code",
      "metadata": {
        "colab": {
          "base_uri": "https://localhost:8080/",
          "height": 233
        },
        "id": "6ITjF8XLMpf6",
        "outputId": "2e7342b6-385f-45b6-c439-e78e36edb5b5"
      },
      "source": [
        "#Updated dataset\r\n",
        "df.head()"
      ],
      "execution_count": null,
      "outputs": [
        {
          "output_type": "execute_result",
          "data": {
            "text/html": [
              "<div>\n",
              "<style scoped>\n",
              "    .dataframe tbody tr th:only-of-type {\n",
              "        vertical-align: middle;\n",
              "    }\n",
              "\n",
              "    .dataframe tbody tr th {\n",
              "        vertical-align: top;\n",
              "    }\n",
              "\n",
              "    .dataframe thead th {\n",
              "        text-align: right;\n",
              "    }\n",
              "</style>\n",
              "<table border=\"1\" class=\"dataframe\">\n",
              "  <thead>\n",
              "    <tr style=\"text-align: right;\">\n",
              "      <th></th>\n",
              "      <th>close</th>\n",
              "      <th>volume</th>\n",
              "      <th>open</th>\n",
              "      <th>high</th>\n",
              "      <th>low</th>\n",
              "    </tr>\n",
              "    <tr>\n",
              "      <th>date</th>\n",
              "      <th></th>\n",
              "      <th></th>\n",
              "      <th></th>\n",
              "      <th></th>\n",
              "      <th></th>\n",
              "    </tr>\n",
              "  </thead>\n",
              "  <tbody>\n",
              "    <tr>\n",
              "      <th>2019-08-02</th>\n",
              "      <td>1196.3200</td>\n",
              "      <td>1745450.0000</td>\n",
              "      <td>1203.0000</td>\n",
              "      <td>1209.5000</td>\n",
              "      <td>1190.0000</td>\n",
              "    </tr>\n",
              "    <tr>\n",
              "      <th>2019-08-01</th>\n",
              "      <td>1211.7800</td>\n",
              "      <td>1771271.0000</td>\n",
              "      <td>1217.6300</td>\n",
              "      <td>1236.2980</td>\n",
              "      <td>1207.0000</td>\n",
              "    </tr>\n",
              "    <tr>\n",
              "      <th>2019-07-31</th>\n",
              "      <td>1218.2000</td>\n",
              "      <td>1997999.0000</td>\n",
              "      <td>1224.8700</td>\n",
              "      <td>1234.9100</td>\n",
              "      <td>1208.1800</td>\n",
              "    </tr>\n",
              "    <tr>\n",
              "      <th>2019-07-30</th>\n",
              "      <td>1228.0000</td>\n",
              "      <td>1430775.0000</td>\n",
              "      <td>1227.0000</td>\n",
              "      <td>1236.9100</td>\n",
              "      <td>1225.3200</td>\n",
              "    </tr>\n",
              "    <tr>\n",
              "      <th>2019-07-29</th>\n",
              "      <td>1241.8400</td>\n",
              "      <td>2069127.0000</td>\n",
              "      <td>1242.5000</td>\n",
              "      <td>1248.9950</td>\n",
              "      <td>1230.2000</td>\n",
              "    </tr>\n",
              "  </tbody>\n",
              "</table>\n",
              "</div>"
            ],
            "text/plain": [
              "                close        volume       open       high        low\n",
              "date                                                                \n",
              "2019-08-02  1196.3200  1745450.0000  1203.0000  1209.5000  1190.0000\n",
              "2019-08-01  1211.7800  1771271.0000  1217.6300  1236.2980  1207.0000\n",
              "2019-07-31  1218.2000  1997999.0000  1224.8700  1234.9100  1208.1800\n",
              "2019-07-30  1228.0000  1430775.0000  1227.0000  1236.9100  1225.3200\n",
              "2019-07-29  1241.8400  2069127.0000  1242.5000  1248.9950  1230.2000"
            ]
          },
          "metadata": {
            "tags": []
          },
          "execution_count": 45
        }
      ]
    },
    {
      "cell_type": "markdown",
      "metadata": {
        "id": "pEaK4DlpQZ4Y"
      },
      "source": [
        "`df.info()` - Print a concise summary of a DataFrame. \r\n",
        "\r\n",
        "This method prints information about a DataFrame including the index dtype and columns, non-null values and memory usage."
      ]
    },
    {
      "cell_type": "code",
      "metadata": {
        "colab": {
          "base_uri": "https://localhost:8080/"
        },
        "id": "U5sTxMDgMroO",
        "outputId": "16663e1a-082b-4034-be02-025af2213805"
      },
      "source": [
        "df.info()"
      ],
      "execution_count": null,
      "outputs": [
        {
          "output_type": "stream",
          "text": [
            "<class 'pandas.core.frame.DataFrame'>\n",
            "DatetimeIndex: 2518 entries, 2019-08-02 to 2009-08-03\n",
            "Data columns (total 5 columns):\n",
            " #   Column  Non-Null Count  Dtype \n",
            "---  ------  --------------  ----- \n",
            " 0   close   2518 non-null   object\n",
            " 1   volume  2518 non-null   object\n",
            " 2   open    2518 non-null   object\n",
            " 3   high    2518 non-null   object\n",
            " 4   low     2518 non-null   object\n",
            "dtypes: object(5)\n",
            "memory usage: 118.0+ KB\n"
          ],
          "name": "stdout"
        }
      ]
    },
    {
      "cell_type": "markdown",
      "metadata": {
        "id": "TBGSxJz8QmZF"
      },
      "source": [
        "Changing the dtype of the columns"
      ]
    },
    {
      "cell_type": "markdown",
      "metadata": {
        "id": "-IPYxwjDQ2ii"
      },
      "source": [
        "`close`, `open`, `high`, `low` columns to `float` dtype\r\n",
        "\r\n",
        "`volume` column to `int` dtype"
      ]
    },
    {
      "cell_type": "code",
      "metadata": {
        "id": "W7jV6stVN0X-"
      },
      "source": [
        "df.close = df.close.astype(float)\r\n",
        "df.open = df.open.astype(float)\r\n",
        "df.low = df.low.astype(float)\r\n",
        "df.high = df.high.astype(float)"
      ],
      "execution_count": null,
      "outputs": []
    },
    {
      "cell_type": "code",
      "metadata": {
        "id": "tqHCdaLDOmYe"
      },
      "source": [
        "df.volume = pd.to_numeric(df['volume']).astype(int)"
      ],
      "execution_count": null,
      "outputs": []
    },
    {
      "cell_type": "code",
      "metadata": {
        "colab": {
          "base_uri": "https://localhost:8080/"
        },
        "id": "aCbM0sTEQKyv",
        "outputId": "bc1e134f-9139-4b7f-a8ee-74729033902e"
      },
      "source": [
        "#Applying to .info() method again to check the updated dtypes of the columns\r\n",
        "df.info()"
      ],
      "execution_count": null,
      "outputs": [
        {
          "output_type": "stream",
          "text": [
            "<class 'pandas.core.frame.DataFrame'>\n",
            "DatetimeIndex: 2518 entries, 2019-08-02 to 2009-08-03\n",
            "Data columns (total 5 columns):\n",
            " #   Column  Non-Null Count  Dtype  \n",
            "---  ------  --------------  -----  \n",
            " 0   close   2518 non-null   float64\n",
            " 1   volume  2518 non-null   int64  \n",
            " 2   open    2518 non-null   float64\n",
            " 3   high    2518 non-null   float64\n",
            " 4   low     2518 non-null   float64\n",
            "dtypes: float64(4), int64(1)\n",
            "memory usage: 118.0 KB\n"
          ],
          "name": "stdout"
        }
      ]
    },
    {
      "cell_type": "markdown",
      "metadata": {
        "id": "5cEmAv-1Tax2"
      },
      "source": [
        "`df.describe()` - Generate descriptive statistics. It is used to view some basic statistical details like percentile, mean, std etc. of a data frame or a series of numeric values."
      ]
    },
    {
      "cell_type": "code",
      "metadata": {
        "colab": {
          "base_uri": "https://localhost:8080/",
          "height": 294
        },
        "id": "q2eBi1WVM0-o",
        "outputId": "ce4bb58e-0df9-4cec-e9b2-8df7208071b4"
      },
      "source": [
        "#Summary statistics for all numeric columns\r\n",
        "df.describe()"
      ],
      "execution_count": null,
      "outputs": [
        {
          "output_type": "execute_result",
          "data": {
            "text/html": [
              "<div>\n",
              "<style scoped>\n",
              "    .dataframe tbody tr th:only-of-type {\n",
              "        vertical-align: middle;\n",
              "    }\n",
              "\n",
              "    .dataframe tbody tr th {\n",
              "        vertical-align: top;\n",
              "    }\n",
              "\n",
              "    .dataframe thead th {\n",
              "        text-align: right;\n",
              "    }\n",
              "</style>\n",
              "<table border=\"1\" class=\"dataframe\">\n",
              "  <thead>\n",
              "    <tr style=\"text-align: right;\">\n",
              "      <th></th>\n",
              "      <th>close</th>\n",
              "      <th>volume</th>\n",
              "      <th>open</th>\n",
              "      <th>high</th>\n",
              "      <th>low</th>\n",
              "    </tr>\n",
              "  </thead>\n",
              "  <tbody>\n",
              "    <tr>\n",
              "      <th>count</th>\n",
              "      <td>2518.000000</td>\n",
              "      <td>2.518000e+03</td>\n",
              "      <td>2518.000000</td>\n",
              "      <td>2518.000000</td>\n",
              "      <td>2518.000000</td>\n",
              "    </tr>\n",
              "    <tr>\n",
              "      <th>mean</th>\n",
              "      <td>612.300264</td>\n",
              "      <td>2.278235e+06</td>\n",
              "      <td>612.388284</td>\n",
              "      <td>617.484990</td>\n",
              "      <td>606.824462</td>\n",
              "    </tr>\n",
              "    <tr>\n",
              "      <th>std</th>\n",
              "      <td>311.029653</td>\n",
              "      <td>1.256103e+06</td>\n",
              "      <td>310.956806</td>\n",
              "      <td>313.720854</td>\n",
              "      <td>308.055488</td>\n",
              "    </tr>\n",
              "    <tr>\n",
              "      <th>min</th>\n",
              "      <td>220.278500</td>\n",
              "      <td>5.211410e+05</td>\n",
              "      <td>221.410100</td>\n",
              "      <td>223.417600</td>\n",
              "      <td>219.046000</td>\n",
              "    </tr>\n",
              "    <tr>\n",
              "      <th>25%</th>\n",
              "      <td>309.344400</td>\n",
              "      <td>1.518603e+06</td>\n",
              "      <td>309.113350</td>\n",
              "      <td>312.043200</td>\n",
              "      <td>306.689875</td>\n",
              "    </tr>\n",
              "    <tr>\n",
              "      <th>50%</th>\n",
              "      <td>550.887500</td>\n",
              "      <td>1.976994e+06</td>\n",
              "      <td>551.100000</td>\n",
              "      <td>556.012500</td>\n",
              "      <td>546.590650</td>\n",
              "    </tr>\n",
              "    <tr>\n",
              "      <th>75%</th>\n",
              "      <td>830.720000</td>\n",
              "      <td>2.619222e+06</td>\n",
              "      <td>831.457500</td>\n",
              "      <td>837.762500</td>\n",
              "      <td>826.200125</td>\n",
              "    </tr>\n",
              "    <tr>\n",
              "      <th>max</th>\n",
              "      <td>1296.200000</td>\n",
              "      <td>1.480348e+07</td>\n",
              "      <td>1289.120000</td>\n",
              "      <td>1296.975000</td>\n",
              "      <td>1271.710000</td>\n",
              "    </tr>\n",
              "  </tbody>\n",
              "</table>\n",
              "</div>"
            ],
            "text/plain": [
              "             close        volume         open         high          low\n",
              "count  2518.000000  2.518000e+03  2518.000000  2518.000000  2518.000000\n",
              "mean    612.300264  2.278235e+06   612.388284   617.484990   606.824462\n",
              "std     311.029653  1.256103e+06   310.956806   313.720854   308.055488\n",
              "min     220.278500  5.211410e+05   221.410100   223.417600   219.046000\n",
              "25%     309.344400  1.518603e+06   309.113350   312.043200   306.689875\n",
              "50%     550.887500  1.976994e+06   551.100000   556.012500   546.590650\n",
              "75%     830.720000  2.619222e+06   831.457500   837.762500   826.200125\n",
              "max    1296.200000  1.480348e+07  1289.120000  1296.975000  1271.710000"
            ]
          },
          "metadata": {
            "tags": []
          },
          "execution_count": 50
        }
      ]
    },
    {
      "cell_type": "code",
      "metadata": {
        "colab": {
          "base_uri": "https://localhost:8080/",
          "height": 294
        },
        "id": "HTJT8mdBQs51",
        "outputId": "b82b665d-6295-4c73-d0f7-969ad1346563"
      },
      "source": [
        "#Summary statistics only for columns whose type is \"int\"\r\n",
        "df.describe(include='int')"
      ],
      "execution_count": null,
      "outputs": [
        {
          "output_type": "execute_result",
          "data": {
            "text/html": [
              "<div>\n",
              "<style scoped>\n",
              "    .dataframe tbody tr th:only-of-type {\n",
              "        vertical-align: middle;\n",
              "    }\n",
              "\n",
              "    .dataframe tbody tr th {\n",
              "        vertical-align: top;\n",
              "    }\n",
              "\n",
              "    .dataframe thead th {\n",
              "        text-align: right;\n",
              "    }\n",
              "</style>\n",
              "<table border=\"1\" class=\"dataframe\">\n",
              "  <thead>\n",
              "    <tr style=\"text-align: right;\">\n",
              "      <th></th>\n",
              "      <th>volume</th>\n",
              "    </tr>\n",
              "  </thead>\n",
              "  <tbody>\n",
              "    <tr>\n",
              "      <th>count</th>\n",
              "      <td>2.518000e+03</td>\n",
              "    </tr>\n",
              "    <tr>\n",
              "      <th>mean</th>\n",
              "      <td>2.278235e+06</td>\n",
              "    </tr>\n",
              "    <tr>\n",
              "      <th>std</th>\n",
              "      <td>1.256103e+06</td>\n",
              "    </tr>\n",
              "    <tr>\n",
              "      <th>min</th>\n",
              "      <td>5.211410e+05</td>\n",
              "    </tr>\n",
              "    <tr>\n",
              "      <th>25%</th>\n",
              "      <td>1.518603e+06</td>\n",
              "    </tr>\n",
              "    <tr>\n",
              "      <th>50%</th>\n",
              "      <td>1.976994e+06</td>\n",
              "    </tr>\n",
              "    <tr>\n",
              "      <th>75%</th>\n",
              "      <td>2.619222e+06</td>\n",
              "    </tr>\n",
              "    <tr>\n",
              "      <th>max</th>\n",
              "      <td>1.480348e+07</td>\n",
              "    </tr>\n",
              "  </tbody>\n",
              "</table>\n",
              "</div>"
            ],
            "text/plain": [
              "             volume\n",
              "count  2.518000e+03\n",
              "mean   2.278235e+06\n",
              "std    1.256103e+06\n",
              "min    5.211410e+05\n",
              "25%    1.518603e+06\n",
              "50%    1.976994e+06\n",
              "75%    2.619222e+06\n",
              "max    1.480348e+07"
            ]
          },
          "metadata": {
            "tags": []
          },
          "execution_count": 51
        }
      ]
    },
    {
      "cell_type": "code",
      "metadata": {
        "colab": {
          "base_uri": "https://localhost:8080/",
          "height": 294
        },
        "id": "eY2y7Ht4NLtG",
        "outputId": "e162870b-42ef-404f-f550-3bc61ccb6779"
      },
      "source": [
        "#Summary statistics for all numeric columns with percentiles .3, .5 and .9\r\n",
        "df.describe(percentiles=[.3, .5, .9])"
      ],
      "execution_count": null,
      "outputs": [
        {
          "output_type": "execute_result",
          "data": {
            "text/html": [
              "<div>\n",
              "<style scoped>\n",
              "    .dataframe tbody tr th:only-of-type {\n",
              "        vertical-align: middle;\n",
              "    }\n",
              "\n",
              "    .dataframe tbody tr th {\n",
              "        vertical-align: top;\n",
              "    }\n",
              "\n",
              "    .dataframe thead th {\n",
              "        text-align: right;\n",
              "    }\n",
              "</style>\n",
              "<table border=\"1\" class=\"dataframe\">\n",
              "  <thead>\n",
              "    <tr style=\"text-align: right;\">\n",
              "      <th></th>\n",
              "      <th>close</th>\n",
              "      <th>volume</th>\n",
              "      <th>open</th>\n",
              "      <th>high</th>\n",
              "      <th>low</th>\n",
              "    </tr>\n",
              "  </thead>\n",
              "  <tbody>\n",
              "    <tr>\n",
              "      <th>count</th>\n",
              "      <td>2518.000000</td>\n",
              "      <td>2.518000e+03</td>\n",
              "      <td>2518.000000</td>\n",
              "      <td>2518.000000</td>\n",
              "      <td>2518.000000</td>\n",
              "    </tr>\n",
              "    <tr>\n",
              "      <th>mean</th>\n",
              "      <td>612.300264</td>\n",
              "      <td>2.278235e+06</td>\n",
              "      <td>612.388284</td>\n",
              "      <td>617.484990</td>\n",
              "      <td>606.824462</td>\n",
              "    </tr>\n",
              "    <tr>\n",
              "      <th>std</th>\n",
              "      <td>311.029653</td>\n",
              "      <td>1.256103e+06</td>\n",
              "      <td>310.956806</td>\n",
              "      <td>313.720854</td>\n",
              "      <td>308.055488</td>\n",
              "    </tr>\n",
              "    <tr>\n",
              "      <th>min</th>\n",
              "      <td>220.278500</td>\n",
              "      <td>5.211410e+05</td>\n",
              "      <td>221.410100</td>\n",
              "      <td>223.417600</td>\n",
              "      <td>219.046000</td>\n",
              "    </tr>\n",
              "    <tr>\n",
              "      <th>30%</th>\n",
              "      <td>326.846980</td>\n",
              "      <td>1.612094e+06</td>\n",
              "      <td>326.648420</td>\n",
              "      <td>329.873510</td>\n",
              "      <td>323.824180</td>\n",
              "    </tr>\n",
              "    <tr>\n",
              "      <th>50%</th>\n",
              "      <td>550.887500</td>\n",
              "      <td>1.976994e+06</td>\n",
              "      <td>551.100000</td>\n",
              "      <td>556.012500</td>\n",
              "      <td>546.590650</td>\n",
              "    </tr>\n",
              "    <tr>\n",
              "      <th>90%</th>\n",
              "      <td>1102.198000</td>\n",
              "      <td>3.620231e+06</td>\n",
              "      <td>1102.507100</td>\n",
              "      <td>1113.410890</td>\n",
              "      <td>1091.522000</td>\n",
              "    </tr>\n",
              "    <tr>\n",
              "      <th>max</th>\n",
              "      <td>1296.200000</td>\n",
              "      <td>1.480348e+07</td>\n",
              "      <td>1289.120000</td>\n",
              "      <td>1296.975000</td>\n",
              "      <td>1271.710000</td>\n",
              "    </tr>\n",
              "  </tbody>\n",
              "</table>\n",
              "</div>"
            ],
            "text/plain": [
              "             close        volume         open         high          low\n",
              "count  2518.000000  2.518000e+03  2518.000000  2518.000000  2518.000000\n",
              "mean    612.300264  2.278235e+06   612.388284   617.484990   606.824462\n",
              "std     311.029653  1.256103e+06   310.956806   313.720854   308.055488\n",
              "min     220.278500  5.211410e+05   221.410100   223.417600   219.046000\n",
              "30%     326.846980  1.612094e+06   326.648420   329.873510   323.824180\n",
              "50%     550.887500  1.976994e+06   551.100000   556.012500   546.590650\n",
              "90%    1102.198000  3.620231e+06  1102.507100  1113.410890  1091.522000\n",
              "max    1296.200000  1.480348e+07  1289.120000  1296.975000  1271.710000"
            ]
          },
          "metadata": {
            "tags": []
          },
          "execution_count": 52
        }
      ]
    },
    {
      "cell_type": "markdown",
      "metadata": {
        "id": "QcwKlMQWUNX7"
      },
      "source": [
        "## Filtering Data"
      ]
    },
    {
      "cell_type": "code",
      "metadata": {
        "colab": {
          "base_uri": "https://localhost:8080/"
        },
        "id": "TmFucLqs5eby",
        "outputId": "3be7fc9a-b4c1-468f-ba67-9adaee2a1b6a"
      },
      "source": [
        "df.high.mean()"
      ],
      "execution_count": null,
      "outputs": [
        {
          "output_type": "execute_result",
          "data": {
            "text/plain": [
              "617.4849895154871"
            ]
          },
          "metadata": {
            "tags": []
          },
          "execution_count": 55
        }
      ]
    },
    {
      "cell_type": "markdown",
      "metadata": {
        "id": "svIGgMIRUXjq"
      },
      "source": [
        "Q. Create a mask for all of the rows whose `daily high` is greater than `$600`.\r\n",
        "\r\n",
        "Create a DataFrame using this mask."
      ]
    },
    {
      "cell_type": "code",
      "metadata": {
        "colab": {
          "base_uri": "https://localhost:8080/",
          "height": 446
        },
        "id": "M8d_eIpg5hTS",
        "outputId": "414687bd-c4a4-425b-a03d-9863b4f0228b"
      },
      "source": [
        "high_mask = df.high > 600\r\n",
        "df.loc[high_mask]"
      ],
      "execution_count": null,
      "outputs": [
        {
          "output_type": "execute_result",
          "data": {
            "text/html": [
              "<div>\n",
              "<style scoped>\n",
              "    .dataframe tbody tr th:only-of-type {\n",
              "        vertical-align: middle;\n",
              "    }\n",
              "\n",
              "    .dataframe tbody tr th {\n",
              "        vertical-align: top;\n",
              "    }\n",
              "\n",
              "    .dataframe thead th {\n",
              "        text-align: right;\n",
              "    }\n",
              "</style>\n",
              "<table border=\"1\" class=\"dataframe\">\n",
              "  <thead>\n",
              "    <tr style=\"text-align: right;\">\n",
              "      <th></th>\n",
              "      <th>close</th>\n",
              "      <th>volume</th>\n",
              "      <th>open</th>\n",
              "      <th>high</th>\n",
              "      <th>low</th>\n",
              "    </tr>\n",
              "    <tr>\n",
              "      <th>date</th>\n",
              "      <th></th>\n",
              "      <th></th>\n",
              "      <th></th>\n",
              "      <th></th>\n",
              "      <th></th>\n",
              "    </tr>\n",
              "  </thead>\n",
              "  <tbody>\n",
              "    <tr>\n",
              "      <th>2019-08-02</th>\n",
              "      <td>1196.3200</td>\n",
              "      <td>1745450</td>\n",
              "      <td>1203.0000</td>\n",
              "      <td>1209.5000</td>\n",
              "      <td>1190.0000</td>\n",
              "    </tr>\n",
              "    <tr>\n",
              "      <th>2019-08-01</th>\n",
              "      <td>1211.7800</td>\n",
              "      <td>1771271</td>\n",
              "      <td>1217.6300</td>\n",
              "      <td>1236.2980</td>\n",
              "      <td>1207.0000</td>\n",
              "    </tr>\n",
              "    <tr>\n",
              "      <th>2019-07-31</th>\n",
              "      <td>1218.2000</td>\n",
              "      <td>1997999</td>\n",
              "      <td>1224.8700</td>\n",
              "      <td>1234.9100</td>\n",
              "      <td>1208.1800</td>\n",
              "    </tr>\n",
              "    <tr>\n",
              "      <th>2019-07-30</th>\n",
              "      <td>1228.0000</td>\n",
              "      <td>1430775</td>\n",
              "      <td>1227.0000</td>\n",
              "      <td>1236.9100</td>\n",
              "      <td>1225.3200</td>\n",
              "    </tr>\n",
              "    <tr>\n",
              "      <th>2019-07-29</th>\n",
              "      <td>1241.8400</td>\n",
              "      <td>2069127</td>\n",
              "      <td>1242.5000</td>\n",
              "      <td>1248.9950</td>\n",
              "      <td>1230.2000</td>\n",
              "    </tr>\n",
              "    <tr>\n",
              "      <th>...</th>\n",
              "      <td>...</td>\n",
              "      <td>...</td>\n",
              "      <td>...</td>\n",
              "      <td>...</td>\n",
              "      <td>...</td>\n",
              "    </tr>\n",
              "    <tr>\n",
              "      <th>2014-02-18</th>\n",
              "      <td>611.6699</td>\n",
              "      <td>2108553</td>\n",
              "      <td>606.8861</td>\n",
              "      <td>612.6751</td>\n",
              "      <td>606.1739</td>\n",
              "    </tr>\n",
              "    <tr>\n",
              "      <th>2014-02-14</th>\n",
              "      <td>607.5883</td>\n",
              "      <td>2193285</td>\n",
              "      <td>603.9563</td>\n",
              "      <td>608.3915</td>\n",
              "      <td>602.5368</td>\n",
              "    </tr>\n",
              "    <tr>\n",
              "      <th>2014-02-13</th>\n",
              "      <td>606.1234</td>\n",
              "      <td>1835894</td>\n",
              "      <td>596.4498</td>\n",
              "      <td>606.1234</td>\n",
              "      <td>595.8992</td>\n",
              "    </tr>\n",
              "    <tr>\n",
              "      <th>2014-02-12</th>\n",
              "      <td>599.4504</td>\n",
              "      <td>1724490</td>\n",
              "      <td>600.6173</td>\n",
              "      <td>601.1224</td>\n",
              "      <td>596.7681</td>\n",
              "    </tr>\n",
              "    <tr>\n",
              "      <th>2014-02-11</th>\n",
              "      <td>601.2134</td>\n",
              "      <td>2050377</td>\n",
              "      <td>596.1569</td>\n",
              "      <td>602.0651</td>\n",
              "      <td>592.1359</td>\n",
              "    </tr>\n",
              "  </tbody>\n",
              "</table>\n",
              "<p>1060 rows × 5 columns</p>\n",
              "</div>"
            ],
            "text/plain": [
              "                close   volume       open       high        low\n",
              "date                                                           \n",
              "2019-08-02  1196.3200  1745450  1203.0000  1209.5000  1190.0000\n",
              "2019-08-01  1211.7800  1771271  1217.6300  1236.2980  1207.0000\n",
              "2019-07-31  1218.2000  1997999  1224.8700  1234.9100  1208.1800\n",
              "2019-07-30  1228.0000  1430775  1227.0000  1236.9100  1225.3200\n",
              "2019-07-29  1241.8400  2069127  1242.5000  1248.9950  1230.2000\n",
              "...               ...      ...        ...        ...        ...\n",
              "2014-02-18   611.6699  2108553   606.8861   612.6751   606.1739\n",
              "2014-02-14   607.5883  2193285   603.9563   608.3915   602.5368\n",
              "2014-02-13   606.1234  1835894   596.4498   606.1234   595.8992\n",
              "2014-02-12   599.4504  1724490   600.6173   601.1224   596.7681\n",
              "2014-02-11   601.2134  2050377   596.1569   602.0651   592.1359\n",
              "\n",
              "[1060 rows x 5 columns]"
            ]
          },
          "metadata": {
            "tags": []
          },
          "execution_count": 56
        }
      ]
    },
    {
      "cell_type": "markdown",
      "metadata": {
        "id": "nJ0-NubSUqSz"
      },
      "source": [
        "Q. Create a mask for the volume of 1771271.\r\n",
        "\r\n",
        "Create a DataFrame of row(s) with a volume of 1771271."
      ]
    },
    {
      "cell_type": "code",
      "metadata": {
        "colab": {
          "base_uri": "https://localhost:8080/",
          "height": 110
        },
        "id": "nBf0sJp_51qj",
        "outputId": "e70af614-2b6c-4fd9-b872-ce85a5a40549"
      },
      "source": [
        "volume_mask = df.volume == 1771271\r\n",
        "df.loc[volume_mask]"
      ],
      "execution_count": null,
      "outputs": [
        {
          "output_type": "execute_result",
          "data": {
            "text/html": [
              "<div>\n",
              "<style scoped>\n",
              "    .dataframe tbody tr th:only-of-type {\n",
              "        vertical-align: middle;\n",
              "    }\n",
              "\n",
              "    .dataframe tbody tr th {\n",
              "        vertical-align: top;\n",
              "    }\n",
              "\n",
              "    .dataframe thead th {\n",
              "        text-align: right;\n",
              "    }\n",
              "</style>\n",
              "<table border=\"1\" class=\"dataframe\">\n",
              "  <thead>\n",
              "    <tr style=\"text-align: right;\">\n",
              "      <th></th>\n",
              "      <th>close</th>\n",
              "      <th>volume</th>\n",
              "      <th>open</th>\n",
              "      <th>high</th>\n",
              "      <th>low</th>\n",
              "    </tr>\n",
              "    <tr>\n",
              "      <th>date</th>\n",
              "      <th></th>\n",
              "      <th></th>\n",
              "      <th></th>\n",
              "      <th></th>\n",
              "      <th></th>\n",
              "    </tr>\n",
              "  </thead>\n",
              "  <tbody>\n",
              "    <tr>\n",
              "      <th>2019-08-01</th>\n",
              "      <td>1211.78</td>\n",
              "      <td>1771271</td>\n",
              "      <td>1217.63</td>\n",
              "      <td>1236.298</td>\n",
              "      <td>1207.0</td>\n",
              "    </tr>\n",
              "  </tbody>\n",
              "</table>\n",
              "</div>"
            ],
            "text/plain": [
              "              close   volume     open      high     low\n",
              "date                                                   \n",
              "2019-08-01  1211.78  1771271  1217.63  1236.298  1207.0"
            ]
          },
          "metadata": {
            "tags": []
          },
          "execution_count": 57
        }
      ]
    },
    {
      "cell_type": "markdown",
      "metadata": {
        "id": "cvUq18npUv26"
      },
      "source": [
        "Q. Make a mask for all rows where the volume does not equal 1997999.\r\n",
        "\r\n",
        "Filter using this mask."
      ]
    },
    {
      "cell_type": "code",
      "metadata": {
        "colab": {
          "base_uri": "https://localhost:8080/",
          "height": 446
        },
        "id": "dyTIkAiU5_5n",
        "outputId": "88575107-830c-48f6-bdda-60299dbb529b"
      },
      "source": [
        "volume_mask = df.volume !=  1997999\r\n",
        "df.loc[volume_mask]"
      ],
      "execution_count": null,
      "outputs": [
        {
          "output_type": "execute_result",
          "data": {
            "text/html": [
              "<div>\n",
              "<style scoped>\n",
              "    .dataframe tbody tr th:only-of-type {\n",
              "        vertical-align: middle;\n",
              "    }\n",
              "\n",
              "    .dataframe tbody tr th {\n",
              "        vertical-align: top;\n",
              "    }\n",
              "\n",
              "    .dataframe thead th {\n",
              "        text-align: right;\n",
              "    }\n",
              "</style>\n",
              "<table border=\"1\" class=\"dataframe\">\n",
              "  <thead>\n",
              "    <tr style=\"text-align: right;\">\n",
              "      <th></th>\n",
              "      <th>close</th>\n",
              "      <th>volume</th>\n",
              "      <th>open</th>\n",
              "      <th>high</th>\n",
              "      <th>low</th>\n",
              "    </tr>\n",
              "    <tr>\n",
              "      <th>date</th>\n",
              "      <th></th>\n",
              "      <th></th>\n",
              "      <th></th>\n",
              "      <th></th>\n",
              "      <th></th>\n",
              "    </tr>\n",
              "  </thead>\n",
              "  <tbody>\n",
              "    <tr>\n",
              "      <th>2019-08-02</th>\n",
              "      <td>1196.3200</td>\n",
              "      <td>1745450</td>\n",
              "      <td>1203.0000</td>\n",
              "      <td>1209.5000</td>\n",
              "      <td>1190.0000</td>\n",
              "    </tr>\n",
              "    <tr>\n",
              "      <th>2019-08-01</th>\n",
              "      <td>1211.7800</td>\n",
              "      <td>1771271</td>\n",
              "      <td>1217.6300</td>\n",
              "      <td>1236.2980</td>\n",
              "      <td>1207.0000</td>\n",
              "    </tr>\n",
              "    <tr>\n",
              "      <th>2019-07-30</th>\n",
              "      <td>1228.0000</td>\n",
              "      <td>1430775</td>\n",
              "      <td>1227.0000</td>\n",
              "      <td>1236.9100</td>\n",
              "      <td>1225.3200</td>\n",
              "    </tr>\n",
              "    <tr>\n",
              "      <th>2019-07-29</th>\n",
              "      <td>1241.8400</td>\n",
              "      <td>2069127</td>\n",
              "      <td>1242.5000</td>\n",
              "      <td>1248.9950</td>\n",
              "      <td>1230.2000</td>\n",
              "    </tr>\n",
              "    <tr>\n",
              "      <th>2019-07-26</th>\n",
              "      <td>1245.2200</td>\n",
              "      <td>6060795</td>\n",
              "      <td>1228.0000</td>\n",
              "      <td>1268.3940</td>\n",
              "      <td>1228.0000</td>\n",
              "    </tr>\n",
              "    <tr>\n",
              "      <th>...</th>\n",
              "      <td>...</td>\n",
              "      <td>...</td>\n",
              "      <td>...</td>\n",
              "      <td>...</td>\n",
              "      <td>...</td>\n",
              "    </tr>\n",
              "    <tr>\n",
              "      <th>2009-08-07</th>\n",
              "      <td>230.9017</td>\n",
              "      <td>2540727</td>\n",
              "      <td>230.1794</td>\n",
              "      <td>232.0737</td>\n",
              "      <td>229.8359</td>\n",
              "    </tr>\n",
              "    <tr>\n",
              "      <th>2009-08-06</th>\n",
              "      <td>227.4971</td>\n",
              "      <td>2108417</td>\n",
              "      <td>229.4873</td>\n",
              "      <td>229.7803</td>\n",
              "      <td>226.5726</td>\n",
              "    </tr>\n",
              "    <tr>\n",
              "      <th>2009-08-05</th>\n",
              "      <td>227.8911</td>\n",
              "      <td>2340638</td>\n",
              "      <td>230.3461</td>\n",
              "      <td>230.8058</td>\n",
              "      <td>226.2443</td>\n",
              "    </tr>\n",
              "    <tr>\n",
              "      <th>2009-08-04</th>\n",
              "      <td>229.2014</td>\n",
              "      <td>2388618</td>\n",
              "      <td>226.9970</td>\n",
              "      <td>229.3358</td>\n",
              "      <td>226.5221</td>\n",
              "    </tr>\n",
              "    <tr>\n",
              "      <th>2009-08-03</th>\n",
              "      <td>228.4316</td>\n",
              "      <td>2587139</td>\n",
              "      <td>226.6787</td>\n",
              "      <td>229.2853</td>\n",
              "      <td>226.1231</td>\n",
              "    </tr>\n",
              "  </tbody>\n",
              "</table>\n",
              "<p>2517 rows × 5 columns</p>\n",
              "</div>"
            ],
            "text/plain": [
              "                close   volume       open       high        low\n",
              "date                                                           \n",
              "2019-08-02  1196.3200  1745450  1203.0000  1209.5000  1190.0000\n",
              "2019-08-01  1211.7800  1771271  1217.6300  1236.2980  1207.0000\n",
              "2019-07-30  1228.0000  1430775  1227.0000  1236.9100  1225.3200\n",
              "2019-07-29  1241.8400  2069127  1242.5000  1248.9950  1230.2000\n",
              "2019-07-26  1245.2200  6060795  1228.0000  1268.3940  1228.0000\n",
              "...               ...      ...        ...        ...        ...\n",
              "2009-08-07   230.9017  2540727   230.1794   232.0737   229.8359\n",
              "2009-08-06   227.4971  2108417   229.4873   229.7803   226.5726\n",
              "2009-08-05   227.8911  2340638   230.3461   230.8058   226.2443\n",
              "2009-08-04   229.2014  2388618   226.9970   229.3358   226.5221\n",
              "2009-08-03   228.4316  2587139   226.6787   229.2853   226.1231\n",
              "\n",
              "[2517 rows x 5 columns]"
            ]
          },
          "metadata": {
            "tags": []
          },
          "execution_count": 58
        }
      ]
    },
    {
      "cell_type": "markdown",
      "metadata": {
        "id": "0LpfEIKOU4Q6"
      },
      "source": [
        "##Filtering Data with dates"
      ]
    },
    {
      "cell_type": "markdown",
      "metadata": {
        "id": "FZZ3GezJU8Ek"
      },
      "source": [
        "###Selecting data from date ranges\r\n",
        "\r\n",
        "Pulling data that meets specific conditions is one of the most powerful and commonly used operations with DataFrames."
      ]
    },
    {
      "cell_type": "markdown",
      "metadata": {
        "id": "F-4dfX9TVFQr"
      },
      "source": [
        "###Importing datetime module"
      ]
    },
    {
      "cell_type": "code",
      "metadata": {
        "id": "CNm-72-RVLoP"
      },
      "source": [
        "from datetime import datetime"
      ],
      "execution_count": null,
      "outputs": []
    },
    {
      "cell_type": "markdown",
      "metadata": {
        "id": "2SvCkEQeVNr6"
      },
      "source": [
        "Setting dates for the mask"
      ]
    },
    {
      "cell_type": "code",
      "metadata": {
        "id": "yFn75gha6ZKl"
      },
      "source": [
        "start_date = datetime(2019,8,2)\r\n",
        "end_date =  datetime(2019,7,29)"
      ],
      "execution_count": null,
      "outputs": []
    },
    {
      "cell_type": "markdown",
      "metadata": {
        "id": "uBFD_chgVWsB"
      },
      "source": [
        "Q. Create a mask of historical dates in the given date range.\r\n",
        "\r\n",
        "A mask can be used to make a selection of rows from a DataFrame."
      ]
    },
    {
      "cell_type": "code",
      "metadata": {
        "colab": {
          "base_uri": "https://localhost:8080/",
          "height": 233
        },
        "id": "qgsCR-LU9buN",
        "outputId": "422b56be-f948-46a3-e12a-92fbbe990e93"
      },
      "source": [
        "mask = (end_date <= df.index) & (df.index <= start_date)\r\n",
        "df2 = df[mask]\r\n",
        "df2"
      ],
      "execution_count": null,
      "outputs": [
        {
          "output_type": "execute_result",
          "data": {
            "text/html": [
              "<div>\n",
              "<style scoped>\n",
              "    .dataframe tbody tr th:only-of-type {\n",
              "        vertical-align: middle;\n",
              "    }\n",
              "\n",
              "    .dataframe tbody tr th {\n",
              "        vertical-align: top;\n",
              "    }\n",
              "\n",
              "    .dataframe thead th {\n",
              "        text-align: right;\n",
              "    }\n",
              "</style>\n",
              "<table border=\"1\" class=\"dataframe\">\n",
              "  <thead>\n",
              "    <tr style=\"text-align: right;\">\n",
              "      <th></th>\n",
              "      <th>close</th>\n",
              "      <th>volume</th>\n",
              "      <th>open</th>\n",
              "      <th>high</th>\n",
              "      <th>low</th>\n",
              "    </tr>\n",
              "    <tr>\n",
              "      <th>date</th>\n",
              "      <th></th>\n",
              "      <th></th>\n",
              "      <th></th>\n",
              "      <th></th>\n",
              "      <th></th>\n",
              "    </tr>\n",
              "  </thead>\n",
              "  <tbody>\n",
              "    <tr>\n",
              "      <th>2019-08-02</th>\n",
              "      <td>1196.32</td>\n",
              "      <td>1745450</td>\n",
              "      <td>1203.00</td>\n",
              "      <td>1209.500</td>\n",
              "      <td>1190.00</td>\n",
              "    </tr>\n",
              "    <tr>\n",
              "      <th>2019-08-01</th>\n",
              "      <td>1211.78</td>\n",
              "      <td>1771271</td>\n",
              "      <td>1217.63</td>\n",
              "      <td>1236.298</td>\n",
              "      <td>1207.00</td>\n",
              "    </tr>\n",
              "    <tr>\n",
              "      <th>2019-07-31</th>\n",
              "      <td>1218.20</td>\n",
              "      <td>1997999</td>\n",
              "      <td>1224.87</td>\n",
              "      <td>1234.910</td>\n",
              "      <td>1208.18</td>\n",
              "    </tr>\n",
              "    <tr>\n",
              "      <th>2019-07-30</th>\n",
              "      <td>1228.00</td>\n",
              "      <td>1430775</td>\n",
              "      <td>1227.00</td>\n",
              "      <td>1236.910</td>\n",
              "      <td>1225.32</td>\n",
              "    </tr>\n",
              "    <tr>\n",
              "      <th>2019-07-29</th>\n",
              "      <td>1241.84</td>\n",
              "      <td>2069127</td>\n",
              "      <td>1242.50</td>\n",
              "      <td>1248.995</td>\n",
              "      <td>1230.20</td>\n",
              "    </tr>\n",
              "  </tbody>\n",
              "</table>\n",
              "</div>"
            ],
            "text/plain": [
              "              close   volume     open      high      low\n",
              "date                                                    \n",
              "2019-08-02  1196.32  1745450  1203.00  1209.500  1190.00\n",
              "2019-08-01  1211.78  1771271  1217.63  1236.298  1207.00\n",
              "2019-07-31  1218.20  1997999  1224.87  1234.910  1208.18\n",
              "2019-07-30  1228.00  1430775  1227.00  1236.910  1225.32\n",
              "2019-07-29  1241.84  2069127  1242.50  1248.995  1230.20"
            ]
          },
          "metadata": {
            "tags": []
          },
          "execution_count": 90
        }
      ]
    },
    {
      "cell_type": "markdown",
      "metadata": {
        "id": "_qr5KnUUVcc7"
      },
      "source": [
        "##Data Visualizations"
      ]
    },
    {
      "cell_type": "markdown",
      "metadata": {
        "id": "nhUE7_hrVfoM"
      },
      "source": [
        "###Line Plot showing Daily High Prices"
      ]
    },
    {
      "cell_type": "code",
      "metadata": {
        "colab": {
          "base_uri": "https://localhost:8080/",
          "height": 285
        },
        "id": "GY8gl75FA0hu",
        "outputId": "e8cf6a31-ff8f-460c-a7aa-c2c30dc6e8ce"
      },
      "source": [
        "#Creating a line plot of Daily High Prices over time\r\n",
        "df.plot(y='high')\r\n",
        "plt.title(\"Daily High Prices\")\r\n",
        "plt.show()"
      ],
      "execution_count": 103,
      "outputs": [
        {
          "output_type": "display_data",
          "data": {
            "image/png": "[encoded data removed]",
            "text/plain": [
              "<Figure size 432x288 with 1 Axes>"
            ]
          },
          "metadata": {
            "tags": [],
            "needs_background": "light"
          }
        }
      ]
    },
    {
      "cell_type": "markdown",
      "metadata": {
        "id": "ipZn59ITV83G"
      },
      "source": [
        "###Histogram of High Prices"
      ]
    },
    {
      "cell_type": "code",
      "metadata": {
        "colab": {
          "base_uri": "https://localhost:8080/",
          "height": 265
        },
        "id": "OT92LjBFA-WD",
        "outputId": "904187d7-bacf-42bb-a308-554f5c2bb2ee"
      },
      "source": [
        "df.plot(y='high', kind='hist', bins=25)\r\n",
        "plt.show()"
      ],
      "execution_count": 102,
      "outputs": [
        {
          "output_type": "display_data",
          "data": {
            "image/png": "[encoded data removed]",
            "text/plain": [
              "<Figure size 432x288 with 1 Axes>"
            ]
          },
          "metadata": {
            "tags": [],
            "needs_background": "light"
          }
        }
      ]
    },
    {
      "cell_type": "markdown",
      "metadata": {
        "id": "zB5TJMPdWHTA"
      },
      "source": [
        "###Line plot of Volume over time"
      ]
    },
    {
      "cell_type": "code",
      "metadata": {
        "colab": {
          "base_uri": "https://localhost:8080/",
          "height": 331
        },
        "id": "DR8aKIYVBq7V",
        "outputId": "8b4ea1a3-738e-4e0f-e76e-d437cb0ccbab"
      },
      "source": [
        "#Creating a line plot of daily trading volume using the dates as the x-axis\r\n",
        "fig, ax = plt.subplots(figsize=[10,5])\r\n",
        "plt.plot(df.volume)\r\n",
        "plt.show()"
      ],
      "execution_count": 119,
      "outputs": [
        {
          "output_type": "display_data",
          "data": {
            "image/png": "[encoded data removed]",
            "text/plain": [
              "<Figure size 720x360 with 1 Axes>"
            ]
          },
          "metadata": {
            "tags": [],
            "needs_background": "light"
          }
        }
      ]
    },
    {
      "cell_type": "markdown",
      "metadata": {
        "id": "s-JH51hHWM4T"
      },
      "source": [
        "###Daily Volume Frequency distribution"
      ]
    },
    {
      "cell_type": "code",
      "metadata": {
        "colab": {
          "base_uri": "https://localhost:8080/",
          "height": 294
        },
        "id": "2bq_6lHmByo8",
        "outputId": "1609da2c-a6a8-4538-ee19-154654eaddfa"
      },
      "source": [
        "#Creating a Histogram of Daily trading volume\r\n",
        "df.plot(y='volume', kind='hist', bins=20)\r\n",
        "plt.title(\"Daily Volume\")\r\n",
        "plt.show()"
      ],
      "execution_count": 109,
      "outputs": [
        {
          "output_type": "display_data",
          "data": {
            "image/png": "[encoded data removed]",
            "text/plain": [
              "<Figure size 432x288 with 1 Axes>"
            ]
          },
          "metadata": {
            "tags": [],
            "needs_background": "light"
          }
        }
      ]
    },
    {
      "cell_type": "markdown",
      "metadata": {
        "id": "7ER4857fWUIT"
      },
      "source": [
        "###Filtering & Plotting data"
      ]
    },
    {
      "cell_type": "code",
      "metadata": {
        "colab": {
          "base_uri": "https://localhost:8080/",
          "height": 277
        },
        "id": "qRVzcakUCntu",
        "outputId": "86d7ed82-d591-4c51-fd93-6913a6fa40cc"
      },
      "source": [
        "#Filtering data of year 2016 from the dataset and then plotting it on a line plot over time\r\n",
        "df.loc['2016'].plot(y='low')\r\n",
        "plt.show()"
      ],
      "execution_count": 111,
      "outputs": [
        {
          "output_type": "display_data",
          "data": {
            "image/png": "[encoded data removed]",
            "text/plain": [
              "<Figure size 432x288 with 1 Axes>"
            ]
          },
          "metadata": {
            "tags": [],
            "needs_background": "light"
          }
        }
      ]
    }
  ]
}